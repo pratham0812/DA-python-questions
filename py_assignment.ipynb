{
  "nbformat": 4,
  "nbformat_minor": 0,
  "metadata": {
    "colab": {
      "provenance": []
    },
    "kernelspec": {
      "name": "python3",
      "display_name": "Python 3"
    },
    "language_info": {
      "name": "python"
    }
  },
  "cells": [
    {
      "cell_type": "markdown",
      "source": [
        "Q1 What are the types of Applications?\n",
        "\n",
        "These are a few of the applications of python:-\n",
        "1.   web development\n",
        "2.   maching learning and artificial intelligence\n",
        "3.   Game Development\n",
        "4.   Automation\n",
        "5.   Data Analytics\n",
        "\n"
      ],
      "metadata": {
        "id": "jy1_YagNfSrg"
      }
    },
    {
      "cell_type": "markdown",
      "source": [
        "Q2 What is programing?\n",
        "\n",
        "Programming, in the context of computer science and software development, refers to the process of designing, writing, testing, debugging, and maintaining the source code of computer programs. A computer program is a set of instructions that tell a computer how to perform specific tasks or solve particular problems.\n",
        "\n",
        "Here are key aspects that define programming:\n",
        "\n",
        "1. **Problem Solving**: Programming involves breaking down a problem into smaller, manageable parts and designing algorithms to solve each part effectively using a computer.\n",
        "\n",
        "2. **Algorithm Design**: Algorithms are step-by-step procedures or formulas for solving problems. Programmers design algorithms using logic and data structures to achieve desired outcomes.\n",
        "\n",
        "3. **Coding**: Writing code involves using a programming language (like Python, Java, C++, etc.) to implement algorithms and instructions that the computer can understand and execute.\n",
        "\n",
        "4. **Testing and Debugging**: After writing code, programmers test it to ensure it works as intended. Debugging involves identifying and fixing errors (bugs) in the code that prevent it from running correctly.\n",
        "\n",
        "5. **Optimization**: Programmers often optimize code to improve its efficiency, performance, and scalability. This may involve refactoring (rewriting) code or using advanced techniques.\n",
        "\n",
        "6. **Documentation**: Writing clear and comprehensive documentation is important for others (including future self) to understand how the program works, its purpose, and how to use or modify it.\n"
      ],
      "metadata": {
        "id": "IwTTGSkWgTQI"
      }
    },
    {
      "cell_type": "markdown",
      "source": [
        "Q3 what is python\n",
        "\n",
        "Python is a popular high-level interpreted programming language that is easy to learn and has a lot of adaptability. It is extensively utilized in scripting, data science, machine learning, web development, and other fields. Python's extensive standard library and simple syntax make it both user-friendly for novices and highly effective for experts."
      ],
      "metadata": {
        "id": "gT74Ma-FhoxT"
      }
    },
    {
      "cell_type": "code",
      "source": [
        "# 4) Write a Python program to check if a number is positive, negative or zero.\n",
        "num = float(input(\"Enter a number: \"))\n",
        "if num > 0:\n",
        "   print(\"Positive number\")\n",
        "elif num == 0:\n",
        "   print(\"Zero\")\n",
        "else:\n",
        "   print(\"Negative number\")"
      ],
      "metadata": {
        "colab": {
          "base_uri": "https://localhost:8080/"
        },
        "id": "UybkjU_3icCc",
        "outputId": "f6e896a0-91bd-45ce-e220-162889712d19"
      },
      "execution_count": null,
      "outputs": [
        {
          "output_type": "stream",
          "name": "stdout",
          "text": [
            "Enter a number: 8.88\n",
            "Positive number\n"
          ]
        }
      ]
    },
    {
      "cell_type": "code",
      "source": [
        "# 5) Write a Python program to get the Factorial number of given numbers.\n",
        "num = int(input(\"Enter the number: \"))\n",
        "factorial = 1\n",
        "for i in range(1, num + 1):\n",
        "   factorial = factorial*i\n",
        "print(\"The factorial of\", num, \"is\", factorial)"
      ],
      "metadata": {
        "colab": {
          "base_uri": "https://localhost:8080/"
        },
        "id": "xICwKiIVkIHL",
        "outputId": "bbdcf132-b223-4fd4-f9f7-6c2785dfbf27"
      },
      "execution_count": null,
      "outputs": [
        {
          "output_type": "stream",
          "name": "stdout",
          "text": [
            "Enter the number: 5\n",
            "The factorial of 5 is 120\n"
          ]
        }
      ]
    },
    {
      "cell_type": "code",
      "source": [
        "# 6) Write a Python program to get the Fibonacci series of given range.\n",
        "n=int(input(\"Enter the range: \"))\n",
        "num1=0\n",
        "num2=1\n",
        "temp=0\n",
        "for i in range(1,n+1):\n",
        "  print(num1,end=\" \")\n",
        "  temp=num2\n",
        "  num2=num1+num2\n",
        "  num1=temp\n"
      ],
      "metadata": {
        "colab": {
          "base_uri": "https://localhost:8080/"
        },
        "id": "aqa5KFrOkKH9",
        "outputId": "c6b70d2d-15b0-4c02-d538-4059dccee56b"
      },
      "execution_count": null,
      "outputs": [
        {
          "output_type": "stream",
          "name": "stdout",
          "text": [
            "Enter the range: 10\n",
            "0 1 1 2 3 5 8 13 21 34 "
          ]
        }
      ]
    },
    {
      "cell_type": "markdown",
      "source": [
        "Q7) How memory is managed in Python?\n",
        "\n",
        "\n",
        "The interpreter in Python takes care of memory management automatically. It effectively manages memory by combining trash collection, reference counting, and dynamic allocation:\n",
        "\n",
        "1. Dynamic Allocation: When memory is required, objects are assigned from Python's private heap.\n",
        "2. Reference counting counts the number of references that point to each object and releases memory when there are none left.\n",
        "3. Garbage Collection: Reclaims memory automatically from no longer-referenced objects, including cyclic references.\n",
        "\n",
        "By balancing ease of use and performance, Python's memory management system makes it ideal for a wide range of applications without forcing developers to manage memory manually.\n"
      ],
      "metadata": {
        "id": "_HxS_AhangKo"
      }
    },
    {
      "cell_type": "markdown",
      "source": [
        "Q8) What is the purpose continuing statement in python?\n",
        "\n",
        "The purpose of continue statement is to skip the current loop and start the loop from top again"
      ],
      "metadata": {
        "id": "rljrudikn1tL"
      }
    },
    {
      "cell_type": "code",
      "source": [
        "#9) Write python program that swap two number with temp variable and without temp variable.\n",
        "\n",
        "#with temp variable\n",
        "a=7\n",
        "b=5\n",
        "print(\"initial a= \",a)\n",
        "print(\"initial b= \",b)\n",
        "temp=a\n",
        "a=b\n",
        "b=temp\n",
        "print(\"final a= \",a)\n",
        "print(\"final b= \",b)\n",
        "\n",
        "#without temp variable\n",
        "a=7\n",
        "b=5\n",
        "print(\"\\n\\ninitial a= \",a)\n",
        "print(\"initial b= \",b)\n",
        "a=a+b\n",
        "b=a-b\n",
        "a=a-b\n",
        "print(\"final a= \",a)\n",
        "print(\"final b= \",b)"
      ],
      "metadata": {
        "colab": {
          "base_uri": "https://localhost:8080/"
        },
        "id": "04BVLqGUpLxS",
        "outputId": "2a139d96-a578-4770-c524-ea5e36a15d8c"
      },
      "execution_count": null,
      "outputs": [
        {
          "output_type": "stream",
          "name": "stdout",
          "text": [
            "initial a=  7\n",
            "initial b=  5\n",
            "final a=  5\n",
            "final b=  7\n",
            "\n",
            "\n",
            "initial a=  7\n",
            "initial b=  5\n",
            "final a=  5\n",
            "final b=  7\n"
          ]
        }
      ]
    },
    {
      "cell_type": "code",
      "source": [
        "#10) Write a Python program to find whether a given number is even or odd, print out an appropriate message to the user.\n",
        "x=int(input(\"Enter a number: \"))\n",
        "if x%2==0:\n",
        "  print(\"The number is even\")\n",
        "elif x%2!=0:\n",
        "  print(\"The number is odd\")\n",
        "else:\n",
        "  print(\"Enter a valid number\")"
      ],
      "metadata": {
        "colab": {
          "base_uri": "https://localhost:8080/"
        },
        "id": "RiK7uzmWpfHn",
        "outputId": "3f8f4dc5-af90-4798-d2df-af53202d62c5"
      },
      "execution_count": null,
      "outputs": [
        {
          "output_type": "stream",
          "name": "stdout",
          "text": [
            "Enter a number: 8\n",
            "The number is even\n"
          ]
        }
      ]
    },
    {
      "cell_type": "code",
      "source": [
        "#11) Write a Python program to test whether a passed letter is a vowel or not.\n",
        "x=input(\"Enter a letter to check: \")\n",
        "x=x.lower()\n",
        "if x=='a' or x=='e' or x=='i' or x=='o' or x=='u':\n",
        "  print(\"The letter is vowel\")\n",
        "else:\n",
        "  print(\"The letter is not vowel\")"
      ],
      "metadata": {
        "colab": {
          "base_uri": "https://localhost:8080/"
        },
        "id": "i5gQbEdsOwck",
        "outputId": "ab2a1a8e-f624-45f0-e0f2-6a4c7449e30f"
      },
      "execution_count": null,
      "outputs": [
        {
          "output_type": "stream",
          "name": "stdout",
          "text": [
            "Enter a letter to check: E\n",
            "The letter is vowel\n"
          ]
        }
      ]
    },
    {
      "cell_type": "code",
      "source": [
        "#12) Write a Python program to sum of three given integers. However, if two values are equal sum will be zero.\n",
        "x=int(input(\"Enter first number: \"))\n",
        "y=int(input(\"Enter second number: \"))\n",
        "z=int(input(\"Enter third number: \"))\n",
        "if x==y or x==z or y==z:\n",
        "  print(\"Sum will be zero\")\n",
        "else:\n",
        "  print(\"sum of the 3 integers will be: \",x+y+z)"
      ],
      "metadata": {
        "colab": {
          "base_uri": "https://localhost:8080/"
        },
        "id": "ph0pTECIPB6C",
        "outputId": "5f4af02e-e08a-4df7-8d19-f51932abec79"
      },
      "execution_count": null,
      "outputs": [
        {
          "output_type": "stream",
          "name": "stdout",
          "text": [
            "Enter first number: 10\n",
            "Enter second number: 10\n",
            "Enter third number: 20\n",
            "Sum will be zero\n"
          ]
        }
      ]
    },
    {
      "cell_type": "code",
      "source": [
        "#13) Write a Python program that will return true if the two given integer values are equal or their sum or difference is 5.\n",
        "x=int(input(\"Enter the first int: \"))\n",
        "y=int(input(\"Enter the second int: \"))\n",
        "if x==y or x+y==5 or x-y==5 or y-x==5:\n",
        "  print(\"True\")\n",
        "else:\n",
        "  print(\"False\")"
      ],
      "metadata": {
        "colab": {
          "base_uri": "https://localhost:8080/"
        },
        "id": "dH3F5Su_PXJ5",
        "outputId": "09db23d9-4f28-4c44-cab0-720eeb2ef833"
      },
      "execution_count": null,
      "outputs": [
        {
          "output_type": "stream",
          "name": "stdout",
          "text": [
            "Enter the first int: 10\n",
            "Enter the second int: 5\n",
            "True\n"
          ]
        }
      ]
    },
    {
      "cell_type": "code",
      "source": [
        "#14)Write a python program to sum of the first n positive integers.\n",
        "n=int(input(\"enter the number: \"))\n",
        "sum=0\n",
        "for i in range(1,n+1):\n",
        "    sum=sum+i\n",
        "print(\"Sum of the numbers is: \",sum)"
      ],
      "metadata": {
        "colab": {
          "base_uri": "https://localhost:8080/"
        },
        "id": "moeFsHTfQDfA",
        "outputId": "4d632d09-9c7d-4855-fe35-c94cd4b16c37"
      },
      "execution_count": null,
      "outputs": [
        {
          "output_type": "stream",
          "name": "stdout",
          "text": [
            "enter the number: 7\n",
            "Sum of the numbers is:  28\n"
          ]
        }
      ]
    },
    {
      "cell_type": "code",
      "source": [
        "#15)Write a Python program to calculate the length of a string.\n",
        "x=input(\"Enter the string: \")\n",
        "x_len=len(x)\n",
        "print(\"The length of the string is: \",x_len)"
      ],
      "metadata": {
        "colab": {
          "base_uri": "https://localhost:8080/"
        },
        "id": "EBmfSsykQnNo",
        "outputId": "25c9f992-439d-4d56-d53d-ed1a2a8f7d3d"
      },
      "execution_count": null,
      "outputs": [
        {
          "output_type": "stream",
          "name": "stdout",
          "text": [
            "Enter the string: Pratham\n",
            "The length of the string is:  7\n"
          ]
        }
      ]
    },
    {
      "cell_type": "code",
      "source": [
        "#16) Write a Python program to count the number of characters (character frequency) in a string\n",
        "x=input(\"Enter the string: \")\n",
        "x=x.lower()\n",
        "countA=x.count('a')\n",
        "print(\"The number of occurance of a is: \",countA)"
      ],
      "metadata": {
        "colab": {
          "base_uri": "https://localhost:8080/"
        },
        "id": "Gg8WXfFsRFOh",
        "outputId": "40aef60e-c8c3-43cb-da80-17d9b249e375"
      },
      "execution_count": null,
      "outputs": [
        {
          "output_type": "stream",
          "name": "stdout",
          "text": [
            "Enter the string: PrathAm\n",
            "The number of occurance of a is:  2\n"
          ]
        }
      ]
    },
    {
      "cell_type": "markdown",
      "source": [
        "17)What are negative indexes and why are they used?\n",
        "\n",
        "Negative indexes are same as indexes but reversed ie. they traverse from the back of the dataset.\n",
        "\n",
        "Their usecase include if the user wants the last value and the number of indexes is unknown then in those cases the negative indexing can come in much handy nad be very useful"
      ],
      "metadata": {
        "id": "h87euNfxR8XY"
      }
    },
    {
      "cell_type": "code",
      "source": [
        "#18)Write a Python program to count occurrences of a substring in a string.\n",
        "x=input(\"Enter the string: \")\n",
        "occurance=x.count('am')\n",
        "print(\"the number of occurances of the substring are: \",occurance)"
      ],
      "metadata": {
        "colab": {
          "base_uri": "https://localhost:8080/"
        },
        "id": "WrfTx0TbTcsb",
        "outputId": "77bbed7d-b2b6-4809-966c-35196adeaadc"
      },
      "execution_count": null,
      "outputs": [
        {
          "output_type": "stream",
          "name": "stdout",
          "text": [
            "Enter the string: Pratham\n",
            "the number of occurances of the substring are:  1\n"
          ]
        }
      ]
    },
    {
      "cell_type": "code",
      "source": [
        "#19) Write a Python program to count the occurrences of each word in a given sentence\n",
        "x=input(\"Enter the string: \")\n",
        "occurance=x.count('abc')\n",
        "print(\"the number of occurances of the words are: \",occurance)"
      ],
      "metadata": {
        "colab": {
          "base_uri": "https://localhost:8080/"
        },
        "id": "Z582CTuPRzAK",
        "outputId": "a70aaf71-0f12-4470-b65b-3204b288d130"
      },
      "execution_count": null,
      "outputs": [
        {
          "output_type": "stream",
          "name": "stdout",
          "text": [
            "Enter the string: hello this is abc and abc is this\n",
            "the number of occurances of the words are:  2\n"
          ]
        }
      ]
    },
    {
      "cell_type": "code",
      "source": [
        "#20) Write a Python program to get a single string from two given strings, separated by a space and swap the first two characters of each string\n",
        "x=input(\"Enter the first string: \")\n",
        "y=input(\"Enter the second string: \")\n",
        "x=x[0:2]+y[2:]+\" \"+y[0:2]+x[2:]\n",
        "print(x)"
      ],
      "metadata": {
        "colab": {
          "base_uri": "https://localhost:8080/"
        },
        "id": "b5OGbg1TS9cK",
        "outputId": "ee946eeb-1d3e-4de0-ae4f-e5c3119d8223"
      },
      "execution_count": null,
      "outputs": [
        {
          "output_type": "stream",
          "name": "stdout",
          "text": [
            "Enter the first string: hello\n",
            "Enter the second string: pratham\n",
            "heatham prllo\n"
          ]
        }
      ]
    },
    {
      "cell_type": "code",
      "source": [
        "#21) Write a Python program to add 'in' at the end of a given string (length should be at least 3). If the given string already ends with 'ing' then add 'ly' instead if the string length of the given string is less than 3, leave it unchanged.\n",
        "x=input(\"Enter the string: \")\n",
        "length=len(x)\n",
        "if x[-3:]=='ing':\n",
        "  print(x+'ly')\n",
        "elif length>2:\n",
        "  print(x+'in')\n",
        "elif length<3:\n",
        "  print(x)"
      ],
      "metadata": {
        "colab": {
          "base_uri": "https://localhost:8080/"
        },
        "id": "poU8OphxUaqh",
        "outputId": "36085b39-19f4-49a7-cae2-ad075662d4b1"
      },
      "execution_count": null,
      "outputs": [
        {
          "output_type": "stream",
          "name": "stdout",
          "text": [
            "Enter the string: pr\n",
            "pr\n"
          ]
        }
      ]
    },
    {
      "cell_type": "code",
      "source": [
        "#22) Write a Python function to reverses a string if its length is a multiple of 4.\n",
        "x=input(\"Enter the string: \")\n",
        "length=len(x)\n",
        "if length%4==0:\n",
        "  print(x[::-1])\n",
        "else:\n",
        "  print(x)"
      ],
      "metadata": {
        "colab": {
          "base_uri": "https://localhost:8080/"
        },
        "id": "orZdES7ZVEjA",
        "outputId": "141e7dc8-648e-4cee-c246-f8262e42c32d"
      },
      "execution_count": null,
      "outputs": [
        {
          "output_type": "stream",
          "name": "stdout",
          "text": [
            "Enter the string: Prathams\n",
            "smahtarP\n"
          ]
        }
      ]
    },
    {
      "cell_type": "code",
      "source": [
        "#23) Write a Python program to get a string made of the first 2 and the last 2 chars from a given a string. If the string length is less than 2, return instead of the empty string.\n",
        "x=input(\"Enter the string: \")\n",
        "if len(x)>2:\n",
        "  print(\"the first and last 2 char are \"+x[0:2]+\" and \"+x[-2:])\n",
        "elif len(x)<2:\n",
        "  print(x)"
      ],
      "metadata": {
        "colab": {
          "base_uri": "https://localhost:8080/"
        },
        "id": "nb-Nu2BTXysW",
        "outputId": "d205a85c-4138-4a39-d594-d95158602edc"
      },
      "execution_count": null,
      "outputs": [
        {
          "output_type": "stream",
          "name": "stdout",
          "text": [
            "Enter the string: pratham\n",
            "the first and last 2 char are pr and am\n"
          ]
        }
      ]
    },
    {
      "cell_type": "code",
      "source": [
        "#24)Write a Python function to insert a string in the middle of a string.\n",
        "def insert_string_middle(string, new_str):\n",
        "  mid = len(string) // 2\n",
        "  return string[:mid] + new_str + string[mid:]\n",
        "print(insert_string_middle('Pratham','hello'))"
      ],
      "metadata": {
        "colab": {
          "base_uri": "https://localhost:8080/"
        },
        "id": "HYBW6ixheJWE",
        "outputId": "8b887722-9a07-46b4-d8b9-5b33391ffa5d"
      },
      "execution_count": null,
      "outputs": [
        {
          "output_type": "stream",
          "name": "stdout",
          "text": [
            "Prahellotham\n"
          ]
        }
      ]
    },
    {
      "cell_type": "markdown",
      "source": [
        "25)What is List? How will you reverse a list?\n",
        "\n",
        "A list is a mutable, ordered collection of elements,ie the elements have a specific order of representation and can be modified too.\n",
        "\n",
        "to reverse a list we have to insert [::-1] after the list name.for example my_list[::-1]"
      ],
      "metadata": {
        "id": "AIhvUbnA8wks"
      }
    },
    {
      "cell_type": "markdown",
      "source": [
        "26)How will you remove last object from a list?\n",
        "\n",
        "to remove the last element of the list we will have to use 2 concepts togeather that is pop to delete the element based on the index nad the negative indexing\n",
        "\n",
        "example syntax:-\n",
        "1. my_list.pop(-1)"
      ],
      "metadata": {
        "id": "v1XPLPe69taT"
      }
    },
    {
      "cell_type": "markdown",
      "source": [
        "27)Suppose list1 is [2, 33, 222, 14, and 25], what is list1[-1]?\n",
        "\n",
        "list[-1] refers to the last element of the list\n",
        "\n",
        "output: [25]"
      ],
      "metadata": {
        "id": "r80srqo5-Sfi"
      }
    },
    {
      "cell_type": "markdown",
      "source": [
        "28)Differentiate between append () and extend () methods?\n",
        "\n",
        "Append can only insert one single element at a time to the list\n",
        "syntax:-\n",
        "1. my_list.append(1)\n",
        "\n",
        "extend can insert multiple element at once\n",
        "\n",
        "syntax:-\n",
        "1. my_list.extend(1,2,3)"
      ],
      "metadata": {
        "id": "tuTElfLl-pHW"
      }
    },
    {
      "cell_type": "code",
      "source": [
        "#29) Write a Python function to get the largest number, smallest num and sum of all from a list.\n",
        "my_list=[12,2,13,74,53,6]\n",
        "\n",
        "#for Largest number\n",
        "\n",
        "def largest(list):\n",
        "  max=0\n",
        "  for i in list:\n",
        "    if i>max:\n",
        "      max=i\n",
        "  return max\n",
        "\n",
        "def smallest(list):\n",
        "  min=list[0]\n",
        "  for i in list:\n",
        "    if i<min:\n",
        "      min=i\n",
        "  return min\n",
        "\n",
        "def sum(list):\n",
        "  sum=0\n",
        "  for i in list:\n",
        "    sum=sum+i\n",
        "  return sum\n",
        "\n",
        "print(\"for largest: \",largest(my_list))\n",
        "print(\"for smallest: \",smallest(my_list))\n",
        "print(\"for sum: \",sum(my_list))\n"
      ],
      "metadata": {
        "colab": {
          "base_uri": "https://localhost:8080/"
        },
        "id": "PNYs0PNYBEJl",
        "outputId": "d8b3a04a-5adc-4cac-d7b0-d565485686e1"
      },
      "execution_count": null,
      "outputs": [
        {
          "output_type": "stream",
          "name": "stdout",
          "text": [
            "for largest:  74\n",
            "for smallest:  2\n",
            "for sum:  160\n"
          ]
        }
      ]
    },
    {
      "cell_type": "code",
      "source": [
        "#30)How will you compare two lists?\n",
        "my_list = [1, 2, 3]\n",
        "new_list = [1,2,3]\n",
        "\n",
        "if my_list==new_list:\n",
        "  print(\"the lists are equal!\")\n",
        "else:\n",
        "  print(\"The lists are not equal\")"
      ],
      "metadata": {
        "colab": {
          "base_uri": "https://localhost:8080/"
        },
        "id": "j5PN5J66BRJe",
        "outputId": "e198d3ad-8229-455b-d789-929f6b63c907"
      },
      "execution_count": null,
      "outputs": [
        {
          "output_type": "stream",
          "name": "stdout",
          "text": [
            "the lists are equal!\n"
          ]
        }
      ]
    },
    {
      "cell_type": "code",
      "source": [
        "#31) Write a Python program to count the number of strings where the string length is 2 or more and the first and last character are same from a given list of strings.\n",
        "def stringCounter(list):\n",
        "  count=0\n",
        "  for i in list:\n",
        "    i=i.lower()\n",
        "    if len(i)>=2 and i[0]==i[-1]:\n",
        "      count=count+1\n",
        "  print(\"The total count of such strings is: \",count)\n",
        "\n",
        "my_list=['Pratham','apple','a','naman','anda']\n",
        "stringCounter(my_list)"
      ],
      "metadata": {
        "colab": {
          "base_uri": "https://localhost:8080/"
        },
        "id": "FNlMmiB1DNbf",
        "outputId": "5ce5912e-8848-4457-a6c6-800ed39d2976"
      },
      "execution_count": null,
      "outputs": [
        {
          "output_type": "stream",
          "name": "stdout",
          "text": [
            "The total count of such strings is:  2\n"
          ]
        }
      ]
    },
    {
      "cell_type": "code",
      "source": [
        "#32)Write a Python program to remove duplicates from a list.\n",
        "my_list=[1,2,4,3,5,2,4]\n",
        "my_set=set(my_list)\n",
        "new_list=list(my_set)\n",
        "print(new_list)"
      ],
      "metadata": {
        "colab": {
          "base_uri": "https://localhost:8080/"
        },
        "id": "ZA69Youagzv5",
        "outputId": "671c31ff-5153-47d3-ad78-8df3d0a3c779"
      },
      "execution_count": null,
      "outputs": [
        {
          "output_type": "stream",
          "name": "stdout",
          "text": [
            "[1, 2, 3, 4, 5]\n"
          ]
        }
      ]
    },
    {
      "cell_type": "code",
      "source": [
        "#33)Write a Python program to check a list is empty or not.\n",
        "my_list = []\n",
        "if len(my_list) == 0:\n",
        "  print(\"the list is empty\")\n",
        "else:\n",
        "  print(\"The list has elements\")"
      ],
      "metadata": {
        "id": "fnwLfFjyk9D4",
        "colab": {
          "base_uri": "https://localhost:8080/"
        },
        "outputId": "62f94797-5247-45f1-c9c3-42d8565ec347"
      },
      "execution_count": null,
      "outputs": [
        {
          "output_type": "stream",
          "name": "stdout",
          "text": [
            "the list is empty\n"
          ]
        }
      ]
    },
    {
      "cell_type": "code",
      "source": [
        "#34) Write a Python function that takes two lists and returns true if they have at least one common member\n",
        "\n",
        "my_list=[1,2,3]\n",
        "my_list2=[4,5,1,5]\n",
        "intersect=list(set(my_list).intersection(set(my_list2)))\n",
        "if len(intersect)>0:\n",
        "  print(\"atleast on member is common\")\n",
        "else:\n",
        "  print(\"Nothing is common in l1 and l2\")"
      ],
      "metadata": {
        "colab": {
          "base_uri": "https://localhost:8080/"
        },
        "id": "hEJW2e8a3SeV",
        "outputId": "cbf46e21-9246-44ca-ae4c-7e432f7c2370"
      },
      "execution_count": null,
      "outputs": [
        {
          "output_type": "stream",
          "name": "stdout",
          "text": [
            "atleast on member is common\n"
          ]
        }
      ]
    },
    {
      "cell_type": "code",
      "source": [
        "#35) Write a Python program to generate and print a list of first and last 5 elements where the values are square of numbers between 1 and 30.\n",
        "squares=[]\n",
        "for i in range(1,31):\n",
        "  squares.append(i**2)\n",
        "print(\"first and last of squares is \",squares[:5],squares[-5:])"
      ],
      "metadata": {
        "colab": {
          "base_uri": "https://localhost:8080/"
        },
        "id": "kO_yQBiR322a",
        "outputId": "010c1e9e-bae5-4c6c-bbd5-43f1223eca7b"
      },
      "execution_count": null,
      "outputs": [
        {
          "output_type": "stream",
          "name": "stdout",
          "text": [
            "first and last of squares is  [1, 4, 9, 16, 25] [676, 729, 784, 841, 900]\n"
          ]
        }
      ]
    },
    {
      "cell_type": "code",
      "source": [
        "#36) Write a Python function that takes a list and returns a new list with unique elements of the first list.\n",
        "my_list = [1,2,2,3,3,4,5,5,5]\n",
        "unique=list(set(my_list))\n",
        "print(unique)"
      ],
      "metadata": {
        "colab": {
          "base_uri": "https://localhost:8080/"
        },
        "id": "MKOIT1pC8b2D",
        "outputId": "e573af59-d46a-4baa-ec38-8bbcb1ec2d0e"
      },
      "execution_count": null,
      "outputs": [
        {
          "output_type": "stream",
          "name": "stdout",
          "text": [
            "[1, 2, 3, 4, 5]\n"
          ]
        }
      ]
    },
    {
      "cell_type": "code",
      "source": [
        "#37)Write a Python program to convert a list of characters into a string.\n",
        "x=\"\"\n",
        "my_list=['h','e','l','l','o']\n",
        "for i in my_list:\n",
        "  x=x+i\n",
        "print(\"The new string made by the list elements is: \",x)"
      ],
      "metadata": {
        "colab": {
          "base_uri": "https://localhost:8080/"
        },
        "id": "fJ1TcQfeM8ZI",
        "outputId": "c09b7853-30c8-4455-b1b0-87af8e90bb55"
      },
      "execution_count": null,
      "outputs": [
        {
          "output_type": "stream",
          "name": "stdout",
          "text": [
            "The new string made by the list elements is:  hello\n"
          ]
        }
      ]
    },
    {
      "cell_type": "code",
      "source": [
        "#38)Write a Python program to select an item randomly from a list.\n",
        "import random\n",
        "\n",
        "my_list=[1,2,3,21,432,4,5436,77]\n",
        "x=random.choice(my_list)\n",
        "x"
      ],
      "metadata": {
        "colab": {
          "base_uri": "https://localhost:8080/"
        },
        "id": "65l3gmV8NbE9",
        "outputId": "9a6566d0-a2ab-4d37-fa62-d3b8e7b49a26"
      },
      "execution_count": null,
      "outputs": [
        {
          "output_type": "execute_result",
          "data": {
            "text/plain": [
              "432"
            ]
          },
          "metadata": {},
          "execution_count": 22
        }
      ]
    },
    {
      "cell_type": "code",
      "source": [
        "#39)Write a Python program to find the second smallest number in a list.\n",
        "my_list=[2,5,3,12,4]\n",
        "my_list=list(set(my_list))\n",
        "max2=my_list[-2]\n",
        "print(\"The second highest number in the list is : \",max2)"
      ],
      "metadata": {
        "id": "IuLMUfzwPnEW",
        "colab": {
          "base_uri": "https://localhost:8080/"
        },
        "outputId": "ce4e0ac8-61a5-4d23-f065-59bb5c8a2d3c"
      },
      "execution_count": null,
      "outputs": [
        {
          "output_type": "stream",
          "name": "stdout",
          "text": [
            "The second highest number in the list is :  5\n"
          ]
        }
      ]
    },
    {
      "cell_type": "code",
      "source": [
        "#40)Write a Python program to get unique values from a list\n",
        "my_list=[1,2,2,3,4,5,5,5]\n",
        "for i in range(1,6):\n",
        "  if my_list.count(i)==1:\n",
        "    print(i,\" , \",end=\"\")\n",
        "print(\"these are the unique elements\")"
      ],
      "metadata": {
        "colab": {
          "base_uri": "https://localhost:8080/"
        },
        "id": "gg5a-PN60XJm",
        "outputId": "c54a296b-d820-4abb-a5bb-5a56891d0909"
      },
      "execution_count": null,
      "outputs": [
        {
          "output_type": "stream",
          "name": "stdout",
          "text": [
            "1  , 3  , 4  , these are the unique elements\n"
          ]
        }
      ]
    },
    {
      "cell_type": "code",
      "source": [
        "#41)Write a Python program to check whether a list contains a sub list\n"
      ],
      "metadata": {
        "id": "JXtkOGXO1Y8S"
      },
      "execution_count": null,
      "outputs": []
    },
    {
      "cell_type": "code",
      "source": [
        "#42)Write a Python program to split a list into different variables.\n",
        "\n",
        "my_list = [1, 2, 3]\n",
        "a, b, c = my_list\n",
        "print(\"a:\", a)\n",
        "print(\"b:\", b)\n",
        "print(\"c:\", c)\n"
      ],
      "metadata": {
        "colab": {
          "base_uri": "https://localhost:8080/"
        },
        "id": "sf6mtRt52w5T",
        "outputId": "7c21cdbf-cc57-4891-a7ef-6e40593bf107"
      },
      "execution_count": null,
      "outputs": [
        {
          "output_type": "stream",
          "name": "stdout",
          "text": [
            "a: 1\n",
            "b: 2\n",
            "c: 3\n"
          ]
        }
      ]
    },
    {
      "cell_type": "markdown",
      "source": [
        "43)What is tuple? Difference between list and tuple.\n",
        "Atuple is very similar to lists but just has a few fundamental differences such as tuples are written/generated by \"()\" brackets and aonther difference is that tuples are immutable ie. one's a tuple is made the elements of the tuples can't be changed\n",
        "\n",
        "diff1 is that we can use append extend etc on list but we can't use them on tuples rather we can just use count len etc.\n",
        "\n",
        "diff2 a list can be nested whereas a tuple can't be nested ie. list inside a list is ok but a tuple can't have another tuple inside a tuple\n",
        "\n",
        "diff3 lists are less efficient due to dynamic sizing but tuples are much more efficient due to fixed size.\n"
      ],
      "metadata": {
        "id": "VnEqwzjw3rNJ"
      }
    },
    {
      "cell_type": "code",
      "source": [
        "#44)Write a Python program to create a tuple with different data types.\n",
        "my_tuple=(1,\"Pratham\")\n",
        "my_tuple"
      ],
      "metadata": {
        "colab": {
          "base_uri": "https://localhost:8080/"
        },
        "id": "6lN0lX6c4_T1",
        "outputId": "da4e7dff-6fa2-4c93-c5b5-e6a4414bc22e"
      },
      "execution_count": null,
      "outputs": [
        {
          "output_type": "execute_result",
          "data": {
            "text/plain": [
              "(1, 'Pratham')"
            ]
          },
          "metadata": {},
          "execution_count": 8
        }
      ]
    },
    {
      "cell_type": "code",
      "source": [
        "#45)Write a Python program to unzip a list of tuples into individual lists.\n",
        "my_list=[(1,2),('paratham','topper')]\n",
        "list1,list2 = zip(*my_list)\n",
        "list1=list(list1)\n",
        "list2=list(list2)\n",
        "\n",
        "print(list1)\n",
        "print(list2)"
      ],
      "metadata": {
        "colab": {
          "base_uri": "https://localhost:8080/"
        },
        "id": "uELNglZ75GW0",
        "outputId": "6fb86203-cc6e-48e0-95fe-5357bd1914a7"
      },
      "execution_count": null,
      "outputs": [
        {
          "output_type": "stream",
          "name": "stdout",
          "text": [
            "[1, 'paratham']\n",
            "[2, 'topper']\n"
          ]
        }
      ]
    },
    {
      "cell_type": "code",
      "source": [
        "#46)Write a Python program to convert a list of tuples into a dictionary.\\\n",
        "my_list=[(1,'pratham'),(2,'topper')]\n",
        "dict1=dict(my_list)\n",
        "print(dict1)"
      ],
      "metadata": {
        "colab": {
          "base_uri": "https://localhost:8080/"
        },
        "id": "T_z_agj25y9t",
        "outputId": "5f9bb5f0-10f6-4825-f23c-07436842df95"
      },
      "execution_count": null,
      "outputs": [
        {
          "output_type": "stream",
          "name": "stdout",
          "text": [
            "{1: 'pratham', 2: 'topper'}\n"
          ]
        }
      ]
    },
    {
      "cell_type": "markdown",
      "source": [
        "47)How will you create a dictionary using tuples in python?\n",
        "\n",
        "the below given code helps us convert tuples into dictionaries :-\n",
        "\n",
        "my_list=[(1,'pratham'),(2,'topper')]\n",
        "\n",
        "dict1=dict(my_list)\n",
        "\n",
        "print(dict1)"
      ],
      "metadata": {
        "id": "R9gwVBgb7EHZ"
      }
    },
    {
      "cell_type": "code",
      "source": [
        "#48)Write a Python script to sort (ascending and descending) a dictionary by value.\n",
        "dict1={'pratham':1,'topper':3,'maybe':2}\n",
        "ascending = sorted(dict1)\n",
        "print(ascending)\n",
        "descending = sorted(dict1,reverse=True)\n",
        "print(descending)"
      ],
      "metadata": {
        "id": "Ah7F-M-l6sE9",
        "colab": {
          "base_uri": "https://localhost:8080/"
        },
        "outputId": "84f83752-d8e6-4e63-c314-a006c8761255"
      },
      "execution_count": null,
      "outputs": [
        {
          "output_type": "stream",
          "name": "stdout",
          "text": [
            "['maybe', 'pratham', 'topper']\n",
            "['topper', 'pratham', 'maybe']\n"
          ]
        }
      ]
    },
    {
      "cell_type": "code",
      "source": [
        "#49) Write a Python script to concatenate following dictionaries to create a new one.\n",
        "dict1={'pratham':1,'topper':3,'maybe':2}\n",
        "dict2={'a':2,'b':3,'c':4}\n",
        "dict3={}\n",
        "for i in (dict1,dict2):\n",
        "  dict3.update(i)\n",
        "print(dict3)"
      ],
      "metadata": {
        "colab": {
          "base_uri": "https://localhost:8080/"
        },
        "id": "XOvcUigBL8TE",
        "outputId": "68bfc169-5fbb-4e4c-903d-763bbb38ceee"
      },
      "execution_count": null,
      "outputs": [
        {
          "output_type": "stream",
          "name": "stdout",
          "text": [
            "{'pratham': 1, 'topper': 3, 'maybe': 2, 'a': 2, 'b': 3, 'c': 4}\n"
          ]
        }
      ]
    },
    {
      "cell_type": "code",
      "source": [
        "#50) Write a Python script to check if a given key already exists in a dictionary.\n",
        "dict1={'pratham':1,'topper':3,'maybe':2}\n",
        "if 'maybe' in dict1:\n",
        "  print(\"yes\")\n",
        "else:\n",
        "  print(\"no\")"
      ],
      "metadata": {
        "colab": {
          "base_uri": "https://localhost:8080/"
        },
        "id": "qTgsuc43M-aL",
        "outputId": "ab07dca2-eec9-47ce-b392-37b636ca70a6"
      },
      "execution_count": null,
      "outputs": [
        {
          "output_type": "stream",
          "name": "stdout",
          "text": [
            "yes\n"
          ]
        }
      ]
    },
    {
      "cell_type": "markdown",
      "source": [
        "51) How Do You Traverse Through a Dictionary Object in Python?\n",
        "\n",
        "There are two ways to traverse a dictionary in python one is traverse by key and the other is to traverse by value\n",
        "\n",
        "eg:-\n",
        "1.   traverse by key\n",
        "```\n",
        "my_dict = {'a': 1, 'b': 2, 'c': 3}\n",
        "for key in my_dict:\n",
        "  print(key)\n",
        "  print(my_dict[key])\n",
        "```\n",
        "\n",
        "\n",
        "\n",
        "2.   Traverse by value\n",
        "```\n",
        "my_dict = {'a': 1, 'b': 2, 'c': 3}\n",
        "for value in my_dict.values():\n",
        "    print(value)  # prints each value\n",
        "```\n",
        "\n"
      ],
      "metadata": {
        "id": "uxtQy-uwNi6A"
      }
    },
    {
      "cell_type": "markdown",
      "source": [
        "52) How Do You Check the Presence of a Key in A Dictionary?\n",
        "\n",
        "We can check the presence of a key in a dictionary via the if statement of the syntax\n",
        "```\n",
        "dict1={'pratham':1,'topper':3,'maybe':2}\n",
        "if 'maybe' in dict1:\n",
        "  print(\"yes\")\n",
        "else:\n",
        "  print(\"no\")\n",
        "```\n",
        "\n"
      ],
      "metadata": {
        "id": "Mxb4iWpCO6Vw"
      }
    },
    {
      "cell_type": "code",
      "source": [
        "#53) Write a Python script to print a dictionary where the keys are numbers between 1 and 15.\n",
        "dict1={}\n",
        "for i in range(1,16):\n",
        "  dict1.update({i:i+100})\n",
        "print(dict1)"
      ],
      "metadata": {
        "colab": {
          "base_uri": "https://localhost:8080/"
        },
        "id": "yUOqht2XPnsk",
        "outputId": "7eae4524-1629-4219-df54-2ec479ae11a8"
      },
      "execution_count": null,
      "outputs": [
        {
          "output_type": "stream",
          "name": "stdout",
          "text": [
            "{1: 101, 2: 102, 3: 103, 4: 104, 5: 105, 6: 106, 7: 107, 8: 108, 9: 109, 10: 110, 11: 111, 12: 112, 13: 113, 14: 114, 15: 115}\n"
          ]
        }
      ]
    },
    {
      "cell_type": "code",
      "source": [
        "#54) Write a Python program to check multiple keys exists in a dictionary\n",
        "if 12 and 13 and 2 in dict1:\n",
        "  print('yes')\n",
        "else:\n",
        "  print('no')"
      ],
      "metadata": {
        "colab": {
          "base_uri": "https://localhost:8080/"
        },
        "id": "wPcEPLmoP_RT",
        "outputId": "58a853c3-d4ce-455e-8d11-2769176ec90a"
      },
      "execution_count": null,
      "outputs": [
        {
          "output_type": "stream",
          "name": "stdout",
          "text": [
            "yes\n"
          ]
        }
      ]
    },
    {
      "cell_type": "code",
      "source": [
        "#55) Write a Python script to merge two Python dictionaries\n",
        "dict1 = {'a': 1, 'b': 2}\n",
        "dict2 = {'b': 3, 'c': 4}\n",
        "merged_dict = dict1.copy()\n",
        "merged_dict.update(dict2)\n",
        "\n",
        "print(merged_dict)\n"
      ],
      "metadata": {
        "colab": {
          "base_uri": "https://localhost:8080/"
        },
        "id": "mFs21yTBQYuT",
        "outputId": "1dd0ca3d-bb78-4f87-9714-c0b64eb6e6d4"
      },
      "execution_count": null,
      "outputs": [
        {
          "output_type": "stream",
          "name": "stdout",
          "text": [
            "{'a': 1, 'b': 3, 'c': 4}\n"
          ]
        }
      ]
    },
    {
      "cell_type": "code",
      "source": [
        "#56) Write a Python program to map two lists into a dictionary Sample output: Counter ({'a': 400, 'b': 400,’d’: 400, 'c': 300}).\n",
        "keys = ['a', 'b', 'c', 'd']\n",
        "values = [400, 400, 300, 400]\n",
        "my_dict = dict(zip(keys, values))\n",
        "print(my_dict)"
      ],
      "metadata": {
        "colab": {
          "base_uri": "https://localhost:8080/"
        },
        "id": "gdnc7KqIQ8Kc",
        "outputId": "a72483c0-9e31-46b3-916f-c3d1bc89e991"
      },
      "execution_count": null,
      "outputs": [
        {
          "output_type": "stream",
          "name": "stdout",
          "text": [
            "{'a': 400, 'b': 400, 'c': 300, 'd': 400}\n"
          ]
        }
      ]
    },
    {
      "cell_type": "code",
      "source": [
        "#57) Write a Python program to find the highest 3 values in a dictionary\n",
        "my_dict = {'apple': 4, 'banana': 2, 'cherry': 5, 'date': 3}\n",
        "\n",
        "def get_value(item):\n",
        "    return item[1]\n",
        "sorted_items = sorted(my_dict.items(), key=get_value)\n",
        "sorted_dict = dict(sorted_items)\n",
        "print(sorted_dict)"
      ],
      "metadata": {
        "colab": {
          "base_uri": "https://localhost:8080/"
        },
        "id": "q9B8qUwQRl37",
        "outputId": "09939a1c-f390-48ef-e3f4-b4bd8f16956a"
      },
      "execution_count": null,
      "outputs": [
        {
          "output_type": "stream",
          "name": "stdout",
          "text": [
            "{'banana': 2, 'date': 3, 'apple': 4, 'cherry': 5}\n"
          ]
        }
      ]
    },
    {
      "cell_type": "code",
      "source": [
        "#58) Write a Python program to combine values in python list of dictionaries\n",
        "\n"
      ],
      "metadata": {
        "id": "yjr1gCwmZwCh"
      },
      "execution_count": null,
      "outputs": []
    },
    {
      "cell_type": "code",
      "source": [
        "#59) Write a Python program to create a dictionary from a string. Note: Track the count of the letters from the string\n",
        "input_string = \"Pratham\"\n",
        "letter_count = {}\n",
        "for char in input_string:\n",
        "    if char.isalpha():\n",
        "        if char in letter_count:\n",
        "            letter_count[char] += 1\n",
        "        else:\n",
        "            letter_count[char] = 1\n",
        "print(letter_count)\n"
      ],
      "metadata": {
        "colab": {
          "base_uri": "https://localhost:8080/"
        },
        "id": "KyKgVRx_iQNG",
        "outputId": "e476cd29-f71c-470d-b7ba-d83f7e31a552"
      },
      "execution_count": null,
      "outputs": [
        {
          "output_type": "stream",
          "name": "stdout",
          "text": [
            "{'P': 1, 'r': 1, 'a': 2, 't': 1, 'h': 1, 'm': 1}\n"
          ]
        }
      ]
    },
    {
      "cell_type": "code",
      "source": [
        "#60) Sample string: 'w3resource' Expected output: {'3': 1,’s’: 1, 'r': 2, 'u': 1, 'w': 1, 'c': 1, 'e': 2, 'o': 1}\n",
        "input_string = \"w3resource\"\n",
        "letter_count = {}\n",
        "for char in input_string:\n",
        "    if char.isalpha():\n",
        "        if char in letter_count:\n",
        "            letter_count[char] += 1\n",
        "        else:\n",
        "            letter_count[char] = 1\n",
        "print(letter_count)"
      ],
      "metadata": {
        "colab": {
          "base_uri": "https://localhost:8080/"
        },
        "id": "0LOMttZjieFZ",
        "outputId": "f5ade3a4-ea2f-45b3-c1b4-a24c92501574"
      },
      "execution_count": null,
      "outputs": [
        {
          "output_type": "stream",
          "name": "stdout",
          "text": [
            "{'w': 1, 'r': 2, 'e': 2, 's': 1, 'o': 1, 'u': 1, 'c': 1}\n"
          ]
        }
      ]
    },
    {
      "cell_type": "code",
      "source": [
        "#61) Write a Python function to calculate the factorial of a number (a nonnegative integer)\n",
        "x=int(input(\"Enter a number for the factorial: \"))\n",
        "fact=1\n",
        "if x>0:\n",
        "  for i in range(1,x+1):\n",
        "    fact=fact*i\n",
        "  print(\"Factorial of the number \",x,\" is : \",fact)\n",
        "else:\n",
        "  print(\"Enter a non-negative number!\")"
      ],
      "metadata": {
        "colab": {
          "base_uri": "https://localhost:8080/"
        },
        "id": "HgT-SlQss5W0",
        "outputId": "99ab7192-a195-4f8b-bac7-99eb280e934e"
      },
      "execution_count": null,
      "outputs": [
        {
          "output_type": "stream",
          "name": "stdout",
          "text": [
            "Enter a number for the factorial: 6\n",
            "Factorial of the number  6  is :  720\n"
          ]
        }
      ]
    },
    {
      "cell_type": "code",
      "source": [
        "#62) Write a Python function to check whether a number is in a given range\n",
        "x=int(input(\"Enter the base of range: \"))\n",
        "y=int(input(\"Enter the ceiling of range: \"))\n",
        "\n",
        "n=int(input(\"Enter the number you want to check: \"))\n",
        "if x<=n<=y:\n",
        "  print(\"YES! The number \",n,\" is in the range between\",x,\" and \",y)\n",
        "else:\n",
        "  print(\"oops! The number \",n,\" is not in the range between\",x,\" and \",y)"
      ],
      "metadata": {
        "colab": {
          "base_uri": "https://localhost:8080/"
        },
        "id": "9bwVx-mPtnMi",
        "outputId": "6b65606e-73cc-4dda-e923-2d0c15cc6b03"
      },
      "execution_count": null,
      "outputs": [
        {
          "output_type": "stream",
          "name": "stdout",
          "text": [
            "Enter the base of range: 50\n",
            "Enter the ceiling of range: 100\n",
            "Enter the number you want to check: 75\n",
            "YES! The number  75  is in the range between 50  and  100\n"
          ]
        }
      ]
    },
    {
      "cell_type": "code",
      "source": [
        "#63) Write a Python function to check whether a number is perfect or not.\n",
        "def is_perfect(number):\n",
        "    if number <= 0:\n",
        "        return False\n",
        "    sum1 = 0\n",
        "    for i in range(1, number):\n",
        "        if number % i == 0:\n",
        "            sum1 += i\n",
        "\n",
        "    return sum1 == number\n",
        "\n",
        "num = 6\n",
        "if is_perfect(num):\n",
        "    print(num,\" is a perfect number.\")\n",
        "else:\n",
        "    print(num,\" is not a perfect number.\")\n"
      ],
      "metadata": {
        "colab": {
          "base_uri": "https://localhost:8080/"
        },
        "id": "KIPIpHazvDeN",
        "outputId": "e0cab2b0-4228-4dbb-c768-20ca6f1a68bf"
      },
      "execution_count": null,
      "outputs": [
        {
          "output_type": "stream",
          "name": "stdout",
          "text": [
            "6  is a perfect number.\n"
          ]
        }
      ]
    },
    {
      "cell_type": "code",
      "source": [
        "#64)Write a Python function that checks whether a passed string is palindrome or not.\n",
        "x=input(\"Enter the string: \")\n",
        "x=x.lower()\n",
        "\n",
        "\n",
        "if x==x[::-1]:\n",
        "  print(\"The string is a palindrome\")\n",
        "else:\n",
        "  print(\"The string is not a palindrome\")"
      ],
      "metadata": {
        "id": "V9MuW64pwDS8",
        "colab": {
          "base_uri": "https://localhost:8080/"
        },
        "outputId": "5c764d6f-c507-47fe-a7e9-711edeccda16"
      },
      "execution_count": 3,
      "outputs": [
        {
          "output_type": "stream",
          "name": "stdout",
          "text": [
            "Enter the string: Naman\n",
            "The string is a palindrome\n"
          ]
        }
      ]
    },
    {
      "cell_type": "markdown",
      "source": [
        "65)How Many Basic Types of Functions Are Available in Python?\n",
        "\n",
        "In Python, basic types of built-in functions include:\n",
        "\n",
        "1. **Mathematical Functions** (e.g., `abs()`, `pow()`)\n",
        "2. **Type Conversion Functions** (e.g., `int()`, `float()`)\n",
        "3. **Sequence Functions** (e.g., `len()`, `sorted()`)\n",
        "4. **Input/Output Functions** (e.g., `print()`, `input()`)\n",
        "5. **Utility Functions** (e.g., `id()`, `type()`)\n",
        "6. **Miscellaneous Functions** (e.g., `sum()`, `eval()`)\n",
        "\n",
        "Each type serves a specific purpose in performing operations, converting types, or handling inputs and outputs."
      ],
      "metadata": {
        "id": "rF0JBiXb4giX"
      }
    },
    {
      "cell_type": "code",
      "source": [
        "#66)How can you pick a random item from a list or tuple?\n",
        "\n",
        "\n",
        "import random\n",
        "\n",
        "# For list\n",
        "my_list = [1, 2, 3, 4, 5]\n",
        "random_item = random.choice(my_list)\n",
        "print(random_item)\n",
        "\n",
        "# For tuple\n",
        "my_tuple = ('a', 'b', 'c', 'd')\n",
        "random_item = random.choice(my_tuple)\n",
        "print(random_item)\n"
      ],
      "metadata": {
        "colab": {
          "base_uri": "https://localhost:8080/"
        },
        "id": "fCGGuTEgdUIq",
        "outputId": "469870f0-29f7-4cbd-ae66-4f946613de2f"
      },
      "execution_count": 9,
      "outputs": [
        {
          "output_type": "stream",
          "name": "stdout",
          "text": [
            "3\n",
            "a\n"
          ]
        }
      ]
    },
    {
      "cell_type": "code",
      "source": [
        "#67)How can you pick a random item from a range?\n",
        "import random\n",
        "r = range(1, 11)\n",
        "\n",
        "random_item = r[random.randint(0, len(r) - 1)]\n",
        "print(random_item)\n"
      ],
      "metadata": {
        "colab": {
          "base_uri": "https://localhost:8080/"
        },
        "id": "ZZROR7Ka47xA",
        "outputId": "85dbaf20-43cd-4c55-cf1f-8190a1b4a777"
      },
      "execution_count": 11,
      "outputs": [
        {
          "output_type": "stream",
          "name": "stdout",
          "text": [
            "5\n"
          ]
        }
      ]
    },
    {
      "cell_type": "code",
      "source": [
        "#68)How can you get a random number in python?\n",
        "import random\n",
        "\n",
        "random_integer = random.randint(1, 10)\n",
        "print(random_integer)\n"
      ],
      "metadata": {
        "colab": {
          "base_uri": "https://localhost:8080/"
        },
        "id": "-WhmxW1f5gSk",
        "outputId": "de036895-dbf7-4bad-d1e0-2b9ac8b59640"
      },
      "execution_count": 12,
      "outputs": [
        {
          "output_type": "stream",
          "name": "stdout",
          "text": [
            "4\n"
          ]
        }
      ]
    },
    {
      "cell_type": "code",
      "source": [
        "#69)How will you set the starting value in generating random numbers?\n",
        "\n",
        "#same as 67 and 68"
      ],
      "metadata": {
        "id": "NacBR1Va57Uz"
      },
      "execution_count": null,
      "outputs": []
    },
    {
      "cell_type": "code",
      "source": [
        "#70) How will you randomize the items of a list in place?\n",
        "\n",
        "import random\n",
        "\n",
        "my_list = [1, 2, 3, 4, 5]\n",
        "\n",
        "random.shuffle(my_list)\n",
        "print(my_list)\n"
      ],
      "metadata": {
        "colab": {
          "base_uri": "https://localhost:8080/"
        },
        "id": "wXbUXM-y7SHU",
        "outputId": "a6a0549a-5aa1-4b02-d2aa-7aeb7e6bd2cd"
      },
      "execution_count": 13,
      "outputs": [
        {
          "output_type": "stream",
          "name": "stdout",
          "text": [
            "[3, 2, 5, 4, 1]\n"
          ]
        }
      ]
    }
  ]
}